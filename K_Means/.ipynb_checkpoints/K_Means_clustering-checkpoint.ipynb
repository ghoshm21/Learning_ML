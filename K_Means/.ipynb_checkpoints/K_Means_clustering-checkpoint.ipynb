{
 "cells": [
  {
   "cell_type": "code",
   "execution_count": 33,
   "metadata": {},
   "outputs": [],
   "source": [
    "# import all\n",
    "import pandas as pd\n",
    "from sklearn.cluster import KMeans\n",
    "import matplotlib.pyplot as plt\n",
    "import numpy as np\n",
    "from scipy.spatial.distance import cdist"
   ]
  },
  {
   "cell_type": "code",
   "execution_count": 34,
   "metadata": {},
   "outputs": [],
   "source": [
    "# read the data -- using country data\n",
    "X = pd.read_table(\"C:/Users/ghosh/Google Drive/personal_project/machine_learning_cluestering/clust-master/db2.csv\", sep=\";\")"
   ]
  },
  {
   "cell_type": "code",
   "execution_count": 35,
   "metadata": {},
   "outputs": [
    {
     "data": {
      "text/html": [
       "<div>\n",
       "<style scoped>\n",
       "    .dataframe tbody tr th:only-of-type {\n",
       "        vertical-align: middle;\n",
       "    }\n",
       "\n",
       "    .dataframe tbody tr th {\n",
       "        vertical-align: top;\n",
       "    }\n",
       "\n",
       "    .dataframe thead th {\n",
       "        text-align: right;\n",
       "    }\n",
       "</style>\n",
       "<table border=\"1\" class=\"dataframe\">\n",
       "  <thead>\n",
       "    <tr style=\"text-align: right;\">\n",
       "      <th></th>\n",
       "      <th>Country</th>\n",
       "      <th>Control of Corruption</th>\n",
       "      <th>Government Effectiveness</th>\n",
       "      <th>Political Stability</th>\n",
       "      <th>Regulatory Quality</th>\n",
       "      <th>Rule of Law</th>\n",
       "      <th>Voice and Accountability</th>\n",
       "    </tr>\n",
       "  </thead>\n",
       "  <tbody>\n",
       "    <tr>\n",
       "      <td>0</td>\n",
       "      <td>Afghanistan</td>\n",
       "      <td>-1.340411</td>\n",
       "      <td>-1.335604</td>\n",
       "      <td>-2.502350</td>\n",
       "      <td>-1.008351</td>\n",
       "      <td>-1.592565</td>\n",
       "      <td>-1.152141</td>\n",
       "    </tr>\n",
       "    <tr>\n",
       "      <td>1</td>\n",
       "      <td>Albania</td>\n",
       "      <td>-0.444014</td>\n",
       "      <td>0.027830</td>\n",
       "      <td>0.357206</td>\n",
       "      <td>0.198663</td>\n",
       "      <td>-0.359367</td>\n",
       "      <td>0.159348</td>\n",
       "    </tr>\n",
       "    <tr>\n",
       "      <td>2</td>\n",
       "      <td>Algeria</td>\n",
       "      <td>-0.681529</td>\n",
       "      <td>-0.506218</td>\n",
       "      <td>-1.046453</td>\n",
       "      <td>-1.169924</td>\n",
       "      <td>-0.831184</td>\n",
       "      <td>-0.852513</td>\n",
       "    </tr>\n",
       "    <tr>\n",
       "      <td>3</td>\n",
       "      <td>Andorra</td>\n",
       "      <td>1.246003</td>\n",
       "      <td>1.752355</td>\n",
       "      <td>1.436771</td>\n",
       "      <td>0.892059</td>\n",
       "      <td>1.594601</td>\n",
       "      <td>1.208872</td>\n",
       "    </tr>\n",
       "    <tr>\n",
       "      <td>4</td>\n",
       "      <td>Angola</td>\n",
       "      <td>-1.396893</td>\n",
       "      <td>-1.012036</td>\n",
       "      <td>-0.590507</td>\n",
       "      <td>-0.908264</td>\n",
       "      <td>-1.069294</td>\n",
       "      <td>-1.185755</td>\n",
       "    </tr>\n",
       "    <tr>\n",
       "      <td>...</td>\n",
       "      <td>...</td>\n",
       "      <td>...</td>\n",
       "      <td>...</td>\n",
       "      <td>...</td>\n",
       "      <td>...</td>\n",
       "      <td>...</td>\n",
       "      <td>...</td>\n",
       "    </tr>\n",
       "    <tr>\n",
       "      <td>191</td>\n",
       "      <td>Venezuela. RB</td>\n",
       "      <td>-1.328256</td>\n",
       "      <td>-1.220161</td>\n",
       "      <td>-1.007378</td>\n",
       "      <td>-1.857714</td>\n",
       "      <td>-1.990581</td>\n",
       "      <td>-1.121985</td>\n",
       "    </tr>\n",
       "    <tr>\n",
       "      <td>192</td>\n",
       "      <td>Vietnam</td>\n",
       "      <td>-0.447043</td>\n",
       "      <td>0.076964</td>\n",
       "      <td>0.010676</td>\n",
       "      <td>-0.496354</td>\n",
       "      <td>-0.268542</td>\n",
       "      <td>-1.328915</td>\n",
       "    </tr>\n",
       "    <tr>\n",
       "      <td>193</td>\n",
       "      <td>Yemen. Rep.</td>\n",
       "      <td>-1.448112</td>\n",
       "      <td>-1.640891</td>\n",
       "      <td>-2.632358</td>\n",
       "      <td>-1.101016</td>\n",
       "      <td>-1.237937</td>\n",
       "      <td>-1.493853</td>\n",
       "    </tr>\n",
       "    <tr>\n",
       "      <td>194</td>\n",
       "      <td>Zambia</td>\n",
       "      <td>-0.405139</td>\n",
       "      <td>-0.554479</td>\n",
       "      <td>0.085539</td>\n",
       "      <td>-0.422344</td>\n",
       "      <td>-0.252827</td>\n",
       "      <td>-0.112754</td>\n",
       "    </tr>\n",
       "    <tr>\n",
       "      <td>195</td>\n",
       "      <td>Zimbabwe</td>\n",
       "      <td>-1.286892</td>\n",
       "      <td>-1.147969</td>\n",
       "      <td>-0.577252</td>\n",
       "      <td>-1.646901</td>\n",
       "      <td>-1.349086</td>\n",
       "      <td>-1.192694</td>\n",
       "    </tr>\n",
       "  </tbody>\n",
       "</table>\n",
       "<p>196 rows × 7 columns</p>\n",
       "</div>"
      ],
      "text/plain": [
       "           Country  Control of Corruption  Government Effectiveness  \\\n",
       "0      Afghanistan              -1.340411                 -1.335604   \n",
       "1          Albania              -0.444014                  0.027830   \n",
       "2          Algeria              -0.681529                 -0.506218   \n",
       "3          Andorra               1.246003                  1.752355   \n",
       "4           Angola              -1.396893                 -1.012036   \n",
       "..             ...                    ...                       ...   \n",
       "191  Venezuela. RB              -1.328256                 -1.220161   \n",
       "192        Vietnam              -0.447043                  0.076964   \n",
       "193    Yemen. Rep.              -1.448112                 -1.640891   \n",
       "194         Zambia              -0.405139                 -0.554479   \n",
       "195       Zimbabwe              -1.286892                 -1.147969   \n",
       "\n",
       "     Political Stability  Regulatory Quality  Rule of Law  \\\n",
       "0              -2.502350           -1.008351    -1.592565   \n",
       "1               0.357206            0.198663    -0.359367   \n",
       "2              -1.046453           -1.169924    -0.831184   \n",
       "3               1.436771            0.892059     1.594601   \n",
       "4              -0.590507           -0.908264    -1.069294   \n",
       "..                   ...                 ...          ...   \n",
       "191            -1.007378           -1.857714    -1.990581   \n",
       "192             0.010676           -0.496354    -0.268542   \n",
       "193            -2.632358           -1.101016    -1.237937   \n",
       "194             0.085539           -0.422344    -0.252827   \n",
       "195            -0.577252           -1.646901    -1.349086   \n",
       "\n",
       "     Voice and Accountability  \n",
       "0                   -1.152141  \n",
       "1                    0.159348  \n",
       "2                   -0.852513  \n",
       "3                    1.208872  \n",
       "4                   -1.185755  \n",
       "..                        ...  \n",
       "191                 -1.121985  \n",
       "192                 -1.328915  \n",
       "193                 -1.493853  \n",
       "194                 -0.112754  \n",
       "195                 -1.192694  \n",
       "\n",
       "[196 rows x 7 columns]"
      ]
     },
     "execution_count": 35,
     "metadata": {},
     "output_type": "execute_result"
    }
   ],
   "source": [
    "X"
   ]
  },
  {
   "cell_type": "code",
   "execution_count": 36,
   "metadata": {},
   "outputs": [],
   "source": [
    "# set country as index\n",
    "X.set_index('Country', inplace=True)"
   ]
  },
  {
   "cell_type": "code",
   "execution_count": 68,
   "metadata": {},
   "outputs": [
    {
     "data": {
      "image/png": "[encoded data removed]",
      "text/plain": [
       "<Figure size 432x288 with 1 Axes>"
      ]
     },
     "metadata": {
      "needs_background": "light"
     },
     "output_type": "display_data"
    }
   ],
   "source": [
    "# plot Elbow method, using sum of distance\n",
    "# Inertia: It is the sum of squared distances of samples to their closest cluster center.\n",
    "sse = {}\n",
    "for k in range(1, 10):\n",
    "    kmeans = KMeans(n_clusters=k, init='k-means++', n_init=1000, max_iter=10000, precompute_distances=True, n_jobs=-1).fit(X)\n",
    "    X[\"clusters\"] = kmeans.labels_\n",
    "    sse[k] = kmeans.inertia_ # Inertia: Sum of distances of samples to their closest cluster center\n",
    "plt.figure()\n",
    "plt.plot(list(sse.keys()), list(sse.values()))\n",
    "plt.xlabel(\"Number of cluster\")\n",
    "plt.ylabel(\"SSE\")\n",
    "plt.show()"
   ]
  },
  {
   "cell_type": "code",
   "execution_count": 38,
   "metadata": {},
   "outputs": [
    {
     "name": "stdout",
     "output_type": "stream",
     "text": [
      "dict_keys([1, 2, 3, 4, 5, 6, 7, 8, 9]) dict_values([1185.67852687703, 480.0285863406351, 333.56701136379036, 271.4390245624956, 231.56374633752603, 200.5141810717205, 182.75795116140335, 168.8864584176883, 157.40612349138127])\n"
     ]
    }
   ],
   "source": [
    "print(sse.keys(), sse.values())"
   ]
  },
  {
   "cell_type": "code",
   "execution_count": 69,
   "metadata": {},
   "outputs": [
    {
     "data": {
      "image/png": "[encoded data removed]",
      "text/plain": [
       "<Figure size 432x288 with 1 Axes>"
      ]
     },
     "metadata": {
      "needs_background": "light"
     },
     "output_type": "display_data"
    }
   ],
   "source": [
    "# plot elbow method using \n",
    "# Distortion: It is calculated as the average of the squared distances from the cluster centers of the respective clusters. \n",
    "# Typically, the Euclidean distance metric is used.\n",
    "sse_dis = {}\n",
    "for k in range(1, 10):\n",
    "    kmeans = KMeans(n_clusters=k, init='k-means++', n_init=1000, max_iter=10000, precompute_distances=True, n_jobs=-1).fit(X)\n",
    "    X[\"clusters\"] = kmeans.labels_\n",
    "    sse_dis[k] = sum(np.min(cdist(X, kmeans.cluster_centers_, 'euclidean'),axis=1)) / X.shape[0] \n",
    "plt.figure()\n",
    "plt.plot(list(sse_dis.keys()), list(sse_dis.values()), 'bx-')\n",
    "plt.xlabel(\"Number of cluster\")\n",
    "plt.ylabel(\"Distortion\")\n",
    "plt.title('The Elbow Method using Distortion') \n",
    "plt.show()\n"
   ]
  },
  {
   "cell_type": "code",
   "execution_count": 73,
   "metadata": {},
   "outputs": [
    {
     "data": {
      "image/png": "[encoded data removed]",
      "text/plain": [
       "<Figure size 432x288 with 1 Axes>"
      ]
     },
     "metadata": {
      "needs_background": "light"
     },
     "output_type": "display_data"
    }
   ],
   "source": [
    "distance=[]\n",
    "K = range(1,10)\n",
    "for k in K:\n",
    "    kmeans = KMeans(n_clusters=k, init='k-means++', n_init=1000, max_iter=10000, precompute_distances=True, n_jobs=-1).fit(X)\n",
    "    kmeans.fit(X)\n",
    "    distance.append(sum(np.min(cdist(X, kmeans.cluster_centers_, 'euclidean'),axis=1)) / X.shape[1]) \n",
    "\n",
    "plt.plot(K, distance, 'bx-')\n",
    "plt.xlabel('Number of Clusters')\n",
    "plt.ylabel('Distance')\n",
    "plt.title('The Elbow Method using euclidean distance') \n",
    "plt.show()"
   ]
  },
  {
   "cell_type": "code",
   "execution_count": 80,
   "metadata": {},
   "outputs": [
    {
     "name": "stdout",
     "output_type": "stream",
     "text": [
      "dict_values([1, 1, 1, 0, 1, 0, 1, 1, 0, 0, 0, 1, 0, 1, 1, 0, 1, 0, 1, 1, 0, 0, 0, 0, 1, 0, 1, 0, 1, 0, 1, 1, 0, 0, 1, 1, 0, 1, 0, 1, 1, 1, 0, 0, 0, 1, 0, 0, 0, 1, 0, 1, 0, 1, 0, 1, 1, 0, 1, 1, 0, 0, 0, 0, 1, 0, 0, 1, 1, 0, 0, 0, 1, 1, 0, 1, 0, 0, 0, 0, 0, 0, 1, 1, 0, 0, 0, 1, 0, 0, 1, 1, 0, 0, 1, 0, 0, 1, 1, 1, 0, 1, 1, 1, 1, 0, 0, 0, 0, 1, 1, 0, 0, 0, 1, 0, 0, 1, 0, 0, 0, 0, 1, 1, 1, 0, 1, 1, 0, 1, 0, 0, 0, 0, 1, 0, 1, 1, 0, 1, 0, 0, 0, 0, 0, 0, 0, 0, 1, 1, 1, 0, 1, 1, 1, 0, 1, 0, 0, 0, 1, 1, 1, 0, 1, 1, 1, 1, 0, 0, 1, 0, 1, 0, 1, 0, 1, 0, 1, 0, 1, 1, 0, 0, 1, 0, 0, 0, 0, 1, 0, 1, 1, 1, 0, 1])\n"
     ]
    }
   ],
   "source": [
    "# Let use k=2 and build the cluster\n",
    "km=KMeans(n_clusters=2, init='k-means++', n_init=1000, max_iter=10000, precompute_distances=True, n_jobs=-1).fit(X)\n",
    "result = dict(zip(X.index, km.labels_))\n",
    "print(result.values())\n",
    "plt.figure()\n",
    "plt.plot(list(result.keys()), list(result.values()))\n",
    "# plt.xlabel(\"Number of cluster\")\n",
    "# plt.ylabel(\"SSE\")\n",
    "plt.show()"
   ]
  },
  {
   "cell_type": "code",
   "execution_count": 81,
   "metadata": {},
   "outputs": [
    {
     "ename": "AttributeError",
     "evalue": "'KMeans' object has no attribute 'labels'",
     "output_type": "error",
     "traceback": [
      "\u001b[1;31m---------------------------------------------------------------------------\u001b[0m",
      "\u001b[1;31mAttributeError\u001b[0m                            Traceback (most recent call last)",
      "\u001b[1;32m<ipython-input-81-546a3bfffdd2>\u001b[0m in \u001b[0;36m<module>\u001b[1;34m\u001b[0m\n\u001b[1;32m----> 1\u001b[1;33m \u001b[0mplt\u001b[0m\u001b[1;33m.\u001b[0m\u001b[0mscatter\u001b[0m\u001b[1;33m(\u001b[0m\u001b[0mX\u001b[0m\u001b[1;33m[\u001b[0m\u001b[0mkm\u001b[0m\u001b[1;33m.\u001b[0m\u001b[0mlabels\u001b[0m \u001b[1;33m==\u001b[0m \u001b[1;36m0\u001b[0m\u001b[1;33m,\u001b[0m \u001b[1;36m0\u001b[0m\u001b[1;33m]\u001b[0m\u001b[1;33m,\u001b[0m \u001b[0mX\u001b[0m\u001b[1;33m[\u001b[0m\u001b[0mkm\u001b[0m\u001b[1;33m.\u001b[0m\u001b[0mlabels\u001b[0m \u001b[1;33m==\u001b[0m \u001b[1;36m0\u001b[0m\u001b[1;33m,\u001b[0m \u001b[1;36m1\u001b[0m\u001b[1;33m]\u001b[0m\u001b[1;33m,\u001b[0m\u001b[0mc\u001b[0m\u001b[1;33m=\u001b[0m\u001b[1;34m'green'\u001b[0m\u001b[1;33m,\u001b[0m \u001b[0mlabel\u001b[0m\u001b[1;33m=\u001b[0m\u001b[1;34m'cluster 1'\u001b[0m\u001b[1;33m)\u001b[0m\u001b[1;33m\u001b[0m\u001b[1;33m\u001b[0m\u001b[0m\n\u001b[0m",
      "\u001b[1;31mAttributeError\u001b[0m: 'KMeans' object has no attribute 'labels'"
     ]
    }
   ],
   "source": [
    "plt.scatter(X[km.labels == 0, 0], X[km.labels == 0, 1],c='green', label='cluster 1')"
   ]
  },
  {
   "cell_type": "code",
   "execution_count": 38,
   "metadata": {},
   "outputs": [
    {
     "name": "stdout",
     "output_type": "stream",
     "text": [
      "     sepal length (cm)  sepal width (cm)  petal length (cm)  petal width (cm)\n",
      "0                  5.1               3.5                1.4               0.2\n",
      "1                  4.9               3.0                1.4               0.2\n",
      "2                  4.7               3.2                1.3               0.2\n",
      "3                  4.6               3.1                1.5               0.2\n",
      "4                  5.0               3.6                1.4               0.2\n",
      "..                 ...               ...                ...               ...\n",
      "145                6.7               3.0                5.2               2.3\n",
      "146                6.3               2.5                5.0               1.9\n",
      "147                6.5               3.0                5.2               2.0\n",
      "148                6.2               3.4                5.4               2.3\n",
      "149                5.9               3.0                5.1               1.8\n",
      "\n",
      "[150 rows x 4 columns]\n"
     ]
    },
    {
     "data": {
      "image/png": "[encoded data removed]",
      "text/plain": [
       "<Figure size 432x288 with 1 Axes>"
      ]
     },
     "metadata": {
      "needs_background": "light"
     },
     "output_type": "display_data"
    }
   ],
   "source": [
    "# iris data\n",
    "import pandas as pd\n",
    "from sklearn.datasets import load_iris\n",
    "from sklearn.cluster import KMeans\n",
    "import matplotlib.pyplot as plt\n",
    "\n",
    "iris = load_iris()\n",
    "X = pd.DataFrame(iris.data, columns=iris['feature_names'])\n",
    "print(X)\n",
    "data = X[['sepal length (cm)', 'sepal width (cm)', 'petal length (cm)']]\n",
    "\n",
    "sse = {}\n",
    "for k in range(1, 10):\n",
    "    kmeans = KMeans(n_clusters=k, max_iter=1000).fit(data)\n",
    "    data[\"clusters\"] = kmeans.labels_\n",
    "    #print(data[\"clusters\"])\n",
    "    sse[k] = kmeans.inertia_ # Inertia: Sum of distances of samples to their closest cluster center\n",
    "plt.figure()\n",
    "plt.plot(list(sse.keys()), list(sse.values()))\n",
    "plt.xlabel(\"Number of cluster\")\n",
    "plt.ylabel(\"SSE\")\n",
    "plt.show()"
   ]
  },
  {
   "cell_type": "code",
   "execution_count": null,
   "metadata": {},
   "outputs": [],
   "source": []
  }
 ],
 "metadata": {
  "kernelspec": {
   "display_name": "Python 3",
   "language": "python",
   "name": "python3"
  },
  "language_info": {
   "codemirror_mode": {
    "name": "ipython",
    "version": 3
   },
   "file_extension": ".py",
   "mimetype": "text/x-python",
   "name": "python",
   "nbconvert_exporter": "python",
   "pygments_lexer": "ipython3",
   "version": "3.7.4"
  }
 },
 "nbformat": 4,
 "nbformat_minor": 2
}
