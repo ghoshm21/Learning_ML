{
 "cells": [
  {
   "cell_type": "code",
   "execution_count": 4,
   "metadata": {},
   "outputs": [
    {
     "data": {
      "text/plain": [
       "[]"
      ]
     },
     "execution_count": 4,
     "metadata": {},
     "output_type": "execute_result"
    }
   ],
   "source": [
    "from glob import glob\n",
    "import pandas as pd\n",
    "data_file = glob('/home/sandipan/Downloads/aclImdb_v1/aclImdb/train/neg/*.txt')\n",
    "header_list = [\"comments\"]\n",
    "l = [pd.read_csv(f, sep='\\t', names=header_list, encoding = \"ISO-8859-1\") for f in data_file]\n",
    "data = pd.concat(l, axis=0)\n",
    "print('total length of the training data %s'%(len(data)))\n",
    "data['sentiments']=0\n",
    "# replace any | to space\n",
    "data[\"comments\"]= data[\"comments\"].replace('|', \" \") \n",
    "data.to_csv('/home/sandipan/Downloads/aclImdb_v1/aclImdb/train/neg_sentiment_imdb.tsv', index = False, sep='|', header = False)"
   ]
  },
  {
   "cell_type": "code",
   "execution_count": null,
   "metadata": {},
   "outputs": [],
   "source": [
    "from glob import glob\n",
    "import pandas as pd\n",
    "data_file = glob('/home/sandipan/Downloads/aclImdb_v1/aclImdb/train/pos/*.txt')\n",
    "header_list = [\"comments\"]\n",
    "l = [pd.read_csv(f, sep='\\t', names=header_list, encoding = \"ISO-8859-1\") for f in data_file]\n",
    "data = pd.concat(l, axis=0)\n",
    "print('total length of the training data %s'%(len(data)))\n",
    "data['sentiments']=1\n",
    "# replace any | to space\n",
    "data[\"comments\"]= data[\"comments\"].replace('|', \" \") \n",
    "data.to_csv('/home/sandipan/Downloads/aclImdb_v1/aclImdb/train/pos_sentiment_imdb.tsv', index = False, sep='|', header = False)"
   ]
  },
  {
   "cell_type": "code",
   "execution_count": null,
   "metadata": {},
   "outputs": [],
   "source": [
    "from glob import glob\n",
    "import pandas as pd\n",
    "data_file = glob('/home/sandipan/Downloads/aclImdb_v1/aclImdb/test/pos/*.txt')\n",
    "header_list = [\"comments\"]\n",
    "l = [pd.read_csv(f, sep='\\t', names=header_list, encoding = \"ISO-8859-1\") for f in data_file]\n",
    "data = pd.concat(l, axis=0)\n",
    "print('total length of the training data %s'%(len(data)))\n",
    "data['sentiments']=1\n",
    "# replace any | to space\n",
    "data[\"comments\"]= data[\"comments\"].replace('|', \" \") \n",
    "data.to_csv('/home/sandipan/Downloads/aclImdb_v1/aclImdb/test/pos_sentiment_imdb.tsv', index = False, sep='|', header = False)"
   ]
  },
  {
   "cell_type": "code",
   "execution_count": null,
   "metadata": {},
   "outputs": [],
   "source": [
    "from glob import glob\n",
    "import pandas as pd\n",
    "data_file = glob('/home/sandipan/Downloads/aclImdb_v1/aclImdb/test/neg/*.txt')\n",
    "header_list = [\"comments\"]\n",
    "l = [pd.read_csv(f, sep='\\t', names=header_list, encoding = \"ISO-8859-1\") for f in data_file]\n",
    "data = pd.concat(l, axis=0)\n",
    "print('total length of the training data %s'%(len(data)))\n",
    "data['sentiments']=0\n",
    "# replace any | to space\n",
    "data[\"comments\"]= data[\"comments\"].replace('|', \" \") \n",
    "data.to_csv('/home/sandipan/Downloads/aclImdb_v1/aclImdb/test/neg_sentiment_imdb.tsv', index = False, sep='|', header = False)"
   ]
  },
  {
   "cell_type": "code",
   "execution_count": null,
   "metadata": {},
   "outputs": [],
   "source": []
  }
 ],
 "metadata": {
  "kernelspec": {
   "display_name": "Python 3",
   "language": "python",
   "name": "python3"
  },
  "language_info": {
   "codemirror_mode": {
    "name": "ipython",
    "version": 3
   },
   "file_extension": ".py",
   "mimetype": "text/x-python",
   "name": "python",
   "nbconvert_exporter": "python",
   "pygments_lexer": "ipython3",
   "version": "3.6.9"
  }
 },
 "nbformat": 4,
 "nbformat_minor": 2
}
