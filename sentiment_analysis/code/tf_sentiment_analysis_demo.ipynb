{
 "cells": [
  {
   "cell_type": "code",
   "execution_count": 1,
   "metadata": {},
   "outputs": [
    {
     "name": "stdout",
     "output_type": "stream",
     "text": [
      "Num GPUs Available:  1\n"
     ]
    }
   ],
   "source": [
    "import tensorflow as tf\n",
    "tf.config.experimental.list_physical_devices('GPU')\n",
    "print(\"Num GPUs Available: \", len(tf.config.experimental.list_physical_devices('GPU')))"
   ]
  },
  {
   "cell_type": "code",
   "execution_count": 2,
   "metadata": {},
   "outputs": [
    {
     "data": {
      "text/plain": [
       "'2.2.0'"
      ]
     },
     "execution_count": 2,
     "metadata": {},
     "output_type": "execute_result"
    }
   ],
   "source": [
    "import tensorflow\n",
    "tensorflow.__version__"
   ]
  },
  {
   "cell_type": "code",
   "execution_count": 3,
   "metadata": {},
   "outputs": [],
   "source": [
    "from tensorflow.keras.preprocessing.text import Tokenizer\n",
    "from tensorflow.keras.preprocessing.sequence import pad_sequences\n",
    "import pandas as pd\n",
    "from sklearn.model_selection import train_test_split\n",
    "import tensorflow as tf"
   ]
  },
  {
   "cell_type": "code",
   "execution_count": 4,
   "metadata": {},
   "outputs": [
    {
     "data": {
      "text/plain": [
       "0      1\n",
       "1      0\n",
       "2      0\n",
       "3      1\n",
       "4      1\n",
       "      ..\n",
       "995    0\n",
       "996    0\n",
       "997    0\n",
       "998    0\n",
       "999    0\n",
       "Name: sentiment, Length: 1000, dtype: int64"
      ]
     },
     "execution_count": 4,
     "metadata": {},
     "output_type": "execute_result"
    }
   ],
   "source": [
    "# tabb seperated values\n",
    "header_list = [\"comments\", \"sentiment\"]\n",
    "data = pd.read_csv('/tf/deep_learning/sentiment_analysis/data/yelp_labelled.txt', sep='\\t', names=header_list)\n",
    "# print(data)\n",
    "data[\"sentiment\"]"
   ]
  },
  {
   "cell_type": "code",
   "execution_count": 5,
   "metadata": {},
   "outputs": [],
   "source": [
    "# split the data into training and test\n",
    " X_train, X_test, y_train, y_test = train_test_split(data[\"comments\"], data[\"sentiment\"], test_size=0.20, random_state=42)\n"
   ]
  },
  {
   "cell_type": "code",
   "execution_count": 6,
   "metadata": {},
   "outputs": [
    {
     "name": "stdout",
     "output_type": "stream",
     "text": [
      "521                     If you haven't gone here GO NOW!\n",
      "737    Try them in the airport to experience some tas...\n",
      "740    The restaurant is very clean and has a family ...\n",
      "660    I personally love the hummus, pita, baklava, f...\n",
      "411                Come hungry, leave happy and stuffed!\n",
      "                             ...                        \n",
      "408                               Service was fantastic.\n",
      "332    We had fantastic service, and were pleased by ...\n",
      "208           Must have been an off night at this place.\n",
      "613    Sorry, I will not be getting food from here an...\n",
      "78     Today is the second time I've been to their lu...\n",
      "Name: comments, Length: 200, dtype: object\n"
     ]
    }
   ],
   "source": [
    "print(X_test)"
   ]
  },
  {
   "cell_type": "code",
   "execution_count": 7,
   "metadata": {},
   "outputs": [],
   "source": [
    "vocab_size = 10000\n",
    "max_review_length = 100\n",
    "oov_tok = \"<OOV>\"\n",
    "embedding_dim = 16\n",
    "#------------------------------- on train data ---------------------------------------------------------#\n",
    "# tokenize and pading X_train\n",
    "tokenizer = Tokenizer(num_words = vocab_size, oov_token=oov_tok)\n",
    "tokenizer.fit_on_texts(X_train)\n",
    "word_index = tokenizer.word_index\n",
    "# print(word_index)\n",
    "## check actual vocab size?\n",
    "# convert all sentenses to sequences\n",
    "train_sequences = tokenizer.texts_to_sequences(X_train)\n",
    "# print(sequences)\n",
    "# padding\n",
    "train_padding = pad_sequences(train_sequences, truncating='post', padding='post', maxlen=max_review_length)\n",
    "#------------------------------------- on test data ---------------------------------------------------#\n",
    "# question - why did we do the tokenizer for test?\n",
    "# tokenizer.fit_on_texts(X_test)\n",
    "# word_index = tokenizer.word_index\n",
    "# print(word_index)\n",
    "# ## check actual vocab size?\n",
    "# # convert all sentenses to sequences\n",
    "test_sequences = tokenizer.texts_to_sequences(X_test)\n",
    "# print(test_sequences)\n",
    "# # padding\n",
    "test_padding = pad_sequences(test_sequences, truncating='post', padding='post', maxlen=max_review_length)"
   ]
  },
  {
   "cell_type": "code",
   "execution_count": 8,
   "metadata": {},
   "outputs": [
    {
     "name": "stdout",
     "output_type": "stream",
     "text": [
      "(800, 100)\n",
      "(200, 100)\n"
     ]
    }
   ],
   "source": [
    "print(train_padding.shape)\n",
    "print(test_padding.shape)"
   ]
  },
  {
   "cell_type": "code",
   "execution_count": 9,
   "metadata": {},
   "outputs": [],
   "source": [
    "# Need this block to get it to work with TensorFlow 2.x\n",
    "import numpy as np\n",
    "training_padded = np.array(train_padding)\n",
    "training_labels = np.array(y_train)\n",
    "testing_padded = np.array(test_padding)\n",
    "testing_labels = np.array(y_test)"
   ]
  },
  {
   "cell_type": "code",
   "execution_count": 14,
   "metadata": {},
   "outputs": [],
   "source": [
    "# creating model\n",
    "model = tf.keras.Sequential([\n",
    "    tf.keras.layers.Embedding(vocab_size, embedding_dim, input_length=max_review_length),\n",
    "    tf.keras.layers.GlobalAveragePooling1D(),\n",
    "    tf.keras.layers.Dense(24, activation='relu'),\n",
    "    tf.keras.layers.Dense(1, activation='sigmoid')\n",
    "])\n",
    "model.compile(loss='binary_crossentropy',optimizer='adam',metrics=['accuracy'])"
   ]
  },
  {
   "cell_type": "code",
   "execution_count": 15,
   "metadata": {},
   "outputs": [
    {
     "name": "stdout",
     "output_type": "stream",
     "text": [
      "Model: \"sequential_1\"\n",
      "_________________________________________________________________\n",
      "Layer (type)                 Output Shape              Param #   \n",
      "=================================================================\n",
      "embedding_1 (Embedding)      (None, 100, 16)           160000    \n",
      "_________________________________________________________________\n",
      "global_average_pooling1d_1 ( (None, 16)                0         \n",
      "_________________________________________________________________\n",
      "dense_2 (Dense)              (None, 24)                408       \n",
      "_________________________________________________________________\n",
      "dense_3 (Dense)              (None, 1)                 25        \n",
      "=================================================================\n",
      "Total params: 160,433\n",
      "Trainable params: 160,433\n",
      "Non-trainable params: 0\n",
      "_________________________________________________________________\n"
     ]
    }
   ],
   "source": [
    "model.summary()"
   ]
  },
  {
   "cell_type": "code",
   "execution_count": 16,
   "metadata": {},
   "outputs": [
    {
     "name": "stdout",
     "output_type": "stream",
     "text": [
      "Epoch 1/40\n",
      "25/25 - 0s - loss: 0.6934 - accuracy: 0.4950 - val_loss: 0.6923 - val_accuracy: 0.5200\n",
      "Epoch 2/40\n",
      "25/25 - 0s - loss: 0.6923 - accuracy: 0.5238 - val_loss: 0.6919 - val_accuracy: 0.5650\n",
      "Epoch 3/40\n",
      "25/25 - 0s - loss: 0.6912 - accuracy: 0.6737 - val_loss: 0.6917 - val_accuracy: 0.6950\n",
      "Epoch 4/40\n",
      "25/25 - 0s - loss: 0.6899 - accuracy: 0.7325 - val_loss: 0.6907 - val_accuracy: 0.6550\n",
      "Epoch 5/40\n",
      "25/25 - 0s - loss: 0.6882 - accuracy: 0.7013 - val_loss: 0.6893 - val_accuracy: 0.6300\n",
      "Epoch 6/40\n",
      "25/25 - 0s - loss: 0.6864 - accuracy: 0.5462 - val_loss: 0.6873 - val_accuracy: 0.5950\n",
      "Epoch 7/40\n",
      "25/25 - 0s - loss: 0.6818 - accuracy: 0.8213 - val_loss: 0.6855 - val_accuracy: 0.7150\n",
      "Epoch 8/40\n",
      "25/25 - 0s - loss: 0.6758 - accuracy: 0.7950 - val_loss: 0.6810 - val_accuracy: 0.5900\n",
      "Epoch 9/40\n",
      "25/25 - 0s - loss: 0.6690 - accuracy: 0.6425 - val_loss: 0.6769 - val_accuracy: 0.6600\n",
      "Epoch 10/40\n",
      "25/25 - 0s - loss: 0.6585 - accuracy: 0.8225 - val_loss: 0.6697 - val_accuracy: 0.6250\n",
      "Epoch 11/40\n",
      "25/25 - 0s - loss: 0.6492 - accuracy: 0.7487 - val_loss: 0.6619 - val_accuracy: 0.6300\n",
      "Epoch 12/40\n",
      "25/25 - 0s - loss: 0.6282 - accuracy: 0.7987 - val_loss: 0.6531 - val_accuracy: 0.7150\n",
      "Epoch 13/40\n",
      "25/25 - 0s - loss: 0.6057 - accuracy: 0.8700 - val_loss: 0.6404 - val_accuracy: 0.6500\n",
      "Epoch 14/40\n",
      "25/25 - 0s - loss: 0.5803 - accuracy: 0.8537 - val_loss: 0.6318 - val_accuracy: 0.7500\n",
      "Epoch 15/40\n",
      "25/25 - 0s - loss: 0.5490 - accuracy: 0.8988 - val_loss: 0.6141 - val_accuracy: 0.6450\n",
      "Epoch 16/40\n",
      "25/25 - 0s - loss: 0.5214 - accuracy: 0.8712 - val_loss: 0.5980 - val_accuracy: 0.7250\n",
      "Epoch 17/40\n",
      "25/25 - 0s - loss: 0.4869 - accuracy: 0.9075 - val_loss: 0.5811 - val_accuracy: 0.7250\n",
      "Epoch 18/40\n",
      "25/25 - 0s - loss: 0.4523 - accuracy: 0.9137 - val_loss: 0.5701 - val_accuracy: 0.7500\n",
      "Epoch 19/40\n",
      "25/25 - 0s - loss: 0.4242 - accuracy: 0.9150 - val_loss: 0.5499 - val_accuracy: 0.7350\n",
      "Epoch 20/40\n",
      "25/25 - 0s - loss: 0.3933 - accuracy: 0.9137 - val_loss: 0.5367 - val_accuracy: 0.7600\n",
      "Epoch 21/40\n",
      "25/25 - 0s - loss: 0.3607 - accuracy: 0.9275 - val_loss: 0.5226 - val_accuracy: 0.7500\n",
      "Epoch 22/40\n",
      "25/25 - 0s - loss: 0.3321 - accuracy: 0.9400 - val_loss: 0.5103 - val_accuracy: 0.7550\n",
      "Epoch 23/40\n",
      "25/25 - 0s - loss: 0.3049 - accuracy: 0.9488 - val_loss: 0.4995 - val_accuracy: 0.7850\n",
      "Epoch 24/40\n",
      "25/25 - 0s - loss: 0.2827 - accuracy: 0.9475 - val_loss: 0.4883 - val_accuracy: 0.7400\n",
      "Epoch 25/40\n",
      "25/25 - 0s - loss: 0.2607 - accuracy: 0.9525 - val_loss: 0.4793 - val_accuracy: 0.7900\n",
      "Epoch 26/40\n",
      "25/25 - 0s - loss: 0.2412 - accuracy: 0.9538 - val_loss: 0.4753 - val_accuracy: 0.7650\n",
      "Epoch 27/40\n",
      "25/25 - 0s - loss: 0.2236 - accuracy: 0.9650 - val_loss: 0.4648 - val_accuracy: 0.7850\n",
      "Epoch 28/40\n",
      "25/25 - 0s - loss: 0.2049 - accuracy: 0.9675 - val_loss: 0.4747 - val_accuracy: 0.7950\n",
      "Epoch 29/40\n",
      "25/25 - 0s - loss: 0.1958 - accuracy: 0.9663 - val_loss: 0.4856 - val_accuracy: 0.7750\n",
      "Epoch 30/40\n",
      "25/25 - 0s - loss: 0.1807 - accuracy: 0.9725 - val_loss: 0.4642 - val_accuracy: 0.7950\n",
      "Epoch 31/40\n",
      "25/25 - 0s - loss: 0.1654 - accuracy: 0.9750 - val_loss: 0.4476 - val_accuracy: 0.7950\n",
      "Epoch 32/40\n",
      "25/25 - 0s - loss: 0.1528 - accuracy: 0.9787 - val_loss: 0.4455 - val_accuracy: 0.7950\n",
      "Epoch 33/40\n",
      "25/25 - 0s - loss: 0.1447 - accuracy: 0.9775 - val_loss: 0.4378 - val_accuracy: 0.7950\n",
      "Epoch 34/40\n",
      "25/25 - 0s - loss: 0.1327 - accuracy: 0.9825 - val_loss: 0.4360 - val_accuracy: 0.8050\n",
      "Epoch 35/40\n",
      "25/25 - 0s - loss: 0.1242 - accuracy: 0.9850 - val_loss: 0.4429 - val_accuracy: 0.8000\n",
      "Epoch 36/40\n",
      "25/25 - 0s - loss: 0.1168 - accuracy: 0.9825 - val_loss: 0.4445 - val_accuracy: 0.8050\n",
      "Epoch 37/40\n",
      "25/25 - 0s - loss: 0.1110 - accuracy: 0.9875 - val_loss: 0.4339 - val_accuracy: 0.8100\n",
      "Epoch 38/40\n",
      "25/25 - 0s - loss: 0.1022 - accuracy: 0.9912 - val_loss: 0.4334 - val_accuracy: 0.8050\n",
      "Epoch 39/40\n",
      "25/25 - 0s - loss: 0.0971 - accuracy: 0.9912 - val_loss: 0.4335 - val_accuracy: 0.8100\n",
      "Epoch 40/40\n",
      "25/25 - 0s - loss: 0.0920 - accuracy: 0.9900 - val_loss: 0.4390 - val_accuracy: 0.7950\n"
     ]
    }
   ],
   "source": [
    "num_epochs = 40\n",
    "history = model.fit(training_padded, training_labels, epochs=num_epochs, validation_data=(testing_padded, testing_labels), verbose=2)"
   ]
  },
  {
   "cell_type": "code",
   "execution_count": 17,
   "metadata": {},
   "outputs": [
    {
     "data": {
      "image/png": "[encoded data removed]",
      "text/plain": [
       "<Figure size 432x288 with 1 Axes>"
      ]
     },
     "metadata": {
      "needs_background": "light"
     },
     "output_type": "display_data"
    },
    {
     "data": {
      "image/png": "[encoded data removed]",
      "text/plain": [
       "<Figure size 432x288 with 1 Axes>"
      ]
     },
     "metadata": {
      "needs_background": "light"
     },
     "output_type": "display_data"
    }
   ],
   "source": [
    "# plot the graph\n",
    "import matplotlib.pyplot as plt\n",
    "\n",
    "\n",
    "def plot_graphs(history, string):\n",
    "  plt.plot(history.history[string])\n",
    "  plt.plot(history.history['val_'+string])\n",
    "  plt.xlabel(\"Epochs\")\n",
    "  plt.ylabel(string)\n",
    "  plt.legend([string, 'val_'+string])\n",
    "  plt.show()\n",
    "  \n",
    "plot_graphs(history, \"accuracy\")\n",
    "plot_graphs(history, \"loss\")"
   ]
  },
  {
   "cell_type": "code",
   "execution_count": 18,
   "metadata": {},
   "outputs": [
    {
     "name": "stdout",
     "output_type": "stream",
     "text": [
      "[[0.90052295]\n",
      " [0.35077456]\n",
      " [0.71198386]]\n"
     ]
    }
   ],
   "source": [
    "# validating the model\n",
    "validating = [\"I love the food\",\n",
    "             \"It is so boring restaurant with really bad food\",\n",
    "              \"It is so boring restaurant\"]\n",
    "validate_seq = tokenizer.texts_to_sequences(validating)\n",
    "validate_padding = pad_sequences(validate_seq, truncating='post', padding='post', maxlen=max_review_length)\n",
    "print(model.predict(validate_padding))"
   ]
  },
  {
   "cell_type": "code",
   "execution_count": 19,
   "metadata": {},
   "outputs": [
    {
     "name": "stdout",
     "output_type": "stream",
     "text": [
      "[[0.99895597]\n",
      " [0.32567722]]\n"
     ]
    }
   ],
   "source": [
    "# real yelp reviews\n",
    "validating = [\"This is my go to place for a great sized Banh Mi sandwich! The people here are genuinely wonderful hearted individuals that care about what you want! There are a lot of Banh Mi sandwich stores in San Francisco but this one stands out from the rest! I have had the lemon grass chicken sandwich full of chicken and tons of veggies! 5/13 went here again today and it was wonderful again!\",\n",
    "             \"To be honest, this isn't particularly amazing, and is actually kind of expensive for a banh mi. There are better places that taste amazing and are $2-$3 cheaper, but they're not in walking distance so.\"]\n",
    "validate_seq = tokenizer.texts_to_sequences(validating)\n",
    "validate_padding = pad_sequences(validate_seq, truncating='post', padding='post', maxlen=max_review_length)\n",
    "print(model.predict(validate_padding))"
   ]
  },
  {
   "cell_type": "code",
   "execution_count": 20,
   "metadata": {},
   "outputs": [
    {
     "name": "stdout",
     "output_type": "stream",
     "text": [
      "[[0.98517066]]\n"
     ]
    }
   ],
   "source": [
    "# netflix review on Stranger Things\n",
    "validating = [\"I can't go into great detail because spoiling even just a bit of the story takes away from the greater mystery, but I can say, it's one of the most thrilling and intense series to be on TV, without being on TV. If it were to continue, they have to pull the same punches they did with the first season, because they took a great many clichés, and somehow made them fresh and surprising, save for just a couple that they purposefully left cliché.\"]\n",
    "validate_seq = tokenizer.texts_to_sequences(validating)\n",
    "validate_padding = pad_sequences(validate_seq, truncating='post', padding='post', maxlen=max_review_length)\n",
    "print(model.predict(validate_padding))"
   ]
  },
  {
   "cell_type": "code",
   "execution_count": 21,
   "metadata": {},
   "outputs": [
    {
     "name": "stdout",
     "output_type": "stream",
     "text": [
      "WARNING:tensorflow:Layer LSTM_layer will not use cuDNN kernel since it doesn't meet the cuDNN kernel criteria. It will use generic GPU kernel as fallback when running on GPU\n",
      "WARNING:tensorflow:Layer LSTM_layer will not use cuDNN kernel since it doesn't meet the cuDNN kernel criteria. It will use generic GPU kernel as fallback when running on GPU\n",
      "WARNING:tensorflow:Layer LSTM_layer will not use cuDNN kernel since it doesn't meet the cuDNN kernel criteria. It will use generic GPU kernel as fallback when running on GPU\n"
     ]
    }
   ],
   "source": [
    "# RNN - LSTM\n",
    "# creating model\n",
    "lstm_model = tf.keras.Sequential([\n",
    "    tf.keras.layers.Embedding(input_dim=vocab_size, output_dim=embedding_dim, input_length=max_review_length,\n",
    "                    mask_zero = True, name = 'embadding_layer'),\n",
    "    tf.keras.layers.Bidirectional(tf.keras.layers.LSTM(64, input_shape=(max_review_length, embedding_dim), return_sequences=False,\n",
    "               unroll=True, name = 'LSTM_layer')),\n",
    "    tf.keras.layers.Dense(64, activation='relu'),\n",
    "    tf.keras.layers.Dense(1, activation='sigmoid')\n",
    "])\n",
    "lstm_model.compile(loss='binary_crossentropy',optimizer='adam',metrics=['accuracy'])\n"
   ]
  },
  {
   "cell_type": "code",
   "execution_count": 22,
   "metadata": {},
   "outputs": [
    {
     "name": "stdout",
     "output_type": "stream",
     "text": [
      "Model: \"sequential_2\"\n",
      "_________________________________________________________________\n",
      "Layer (type)                 Output Shape              Param #   \n",
      "=================================================================\n",
      "embadding_layer (Embedding)  (None, 100, 16)           160000    \n",
      "_________________________________________________________________\n",
      "bidirectional (Bidirectional (None, 128)               41472     \n",
      "_________________________________________________________________\n",
      "dense_4 (Dense)              (None, 64)                8256      \n",
      "_________________________________________________________________\n",
      "dense_5 (Dense)              (None, 1)                 65        \n",
      "=================================================================\n",
      "Total params: 209,793\n",
      "Trainable params: 209,793\n",
      "Non-trainable params: 0\n",
      "_________________________________________________________________\n"
     ]
    }
   ],
   "source": [
    "lstm_model.summary()"
   ]
  },
  {
   "cell_type": "code",
   "execution_count": 23,
   "metadata": {},
   "outputs": [
    {
     "name": "stdout",
     "output_type": "stream",
     "text": [
      "Epoch 1/10\n",
      "25/25 - 8s - loss: 0.6913 - accuracy: 0.5400 - val_loss: 0.6868 - val_accuracy: 0.6250\n",
      "Epoch 2/10\n",
      "25/25 - 3s - loss: 0.6226 - accuracy: 0.7763 - val_loss: 0.5526 - val_accuracy: 0.6850\n",
      "Epoch 3/10\n",
      "25/25 - 3s - loss: 0.3610 - accuracy: 0.8888 - val_loss: 0.5888 - val_accuracy: 0.7550\n",
      "Epoch 4/10\n",
      "25/25 - 3s - loss: 0.1589 - accuracy: 0.9600 - val_loss: 0.6727 - val_accuracy: 0.7550\n",
      "Epoch 5/10\n",
      "25/25 - 3s - loss: 0.0966 - accuracy: 0.9825 - val_loss: 0.6546 - val_accuracy: 0.7800\n",
      "Epoch 6/10\n",
      "25/25 - 3s - loss: 0.0558 - accuracy: 0.9912 - val_loss: 0.7966 - val_accuracy: 0.7950\n",
      "Epoch 7/10\n",
      "25/25 - 3s - loss: 0.0620 - accuracy: 0.9925 - val_loss: 0.8907 - val_accuracy: 0.8050\n",
      "Epoch 8/10\n",
      "25/25 - 3s - loss: 0.0436 - accuracy: 0.9887 - val_loss: 0.9225 - val_accuracy: 0.7650\n",
      "Epoch 9/10\n",
      "25/25 - 3s - loss: 0.0242 - accuracy: 0.9962 - val_loss: 1.1418 - val_accuracy: 0.7800\n",
      "Epoch 10/10\n",
      "25/25 - 3s - loss: 0.0125 - accuracy: 0.9987 - val_loss: 1.1776 - val_accuracy: 0.7850\n"
     ]
    }
   ],
   "source": [
    "num_epochs = 10\n",
    "lstm_history = lstm_model.fit(training_padded, training_labels, epochs=num_epochs, validation_data=(testing_padded, testing_labels), verbose=2)"
   ]
  },
  {
   "cell_type": "code",
   "execution_count": 24,
   "metadata": {},
   "outputs": [
    {
     "name": "stdout",
     "output_type": "stream",
     "text": [
      "[[1.      ]\n",
      " [0.908424]]\n"
     ]
    }
   ],
   "source": [
    "# real yelp reviews\n",
    "validating = [\"This is my go to place for a great sized Banh Mi sandwich! The people here are genuinely wonderful hearted individuals that care about what you want! There are a lot of Banh Mi sandwich stores in San Francisco but this one stands out from the rest! I have had the lemon grass chicken sandwich full of chicken and tons of veggies! 5/13 went here again today and it was wonderful again!\",\n",
    "             \"To be honest, this isn't particularly amazing, and is actually kind of expensive for a banh mi. There are better places that taste amazing and are $2-$3 cheaper, but they're not in walking distance so.\"]\n",
    "validate_seq = tokenizer.texts_to_sequences(validating)\n",
    "validate_padding = pad_sequences(validate_seq, truncating='post', padding='post', maxlen=max_review_length)\n",
    "print(lstm_model.predict(validate_padding))"
   ]
  },
  {
   "cell_type": "code",
   "execution_count": null,
   "metadata": {},
   "outputs": [],
   "source": []
  }
 ],
 "metadata": {
  "kernelspec": {
   "display_name": "Python 3",
   "language": "python",
   "name": "python3"
  },
  "language_info": {
   "codemirror_mode": {
    "name": "ipython",
    "version": 3
   },
   "file_extension": ".py",
   "mimetype": "text/x-python",
   "name": "python",
   "nbconvert_exporter": "python",
   "pygments_lexer": "ipython3",
   "version": "3.6.9"
  }
 },
 "nbformat": 4,
 "nbformat_minor": 2
}
